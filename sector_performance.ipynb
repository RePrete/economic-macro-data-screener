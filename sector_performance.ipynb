{
  "nbformat": 4,
  "nbformat_minor": 0,
  "metadata": {
    "colab": {
      "name": "Sector performance.ipynb",
      "provenance": [],
      "collapsed_sections": [],
      "authorship_tag": "ABX9TyP+6v7hxlcDbPPGtqkjB7f+",
      "include_colab_link": true
    },
    "kernelspec": {
      "name": "python3",
      "display_name": "Python 3"
    },
    "language_info": {
      "name": "python"
    }
  },
  "cells": [
    {
      "cell_type": "markdown",
      "metadata": {
        "id": "view-in-github",
        "colab_type": "text"
      },
      "source": [
        "<a href=\"https://colab.research.google.com/github/RePrete/economic-macro-data-screener/blob/main/sector_performance.ipynb\" target=\"_parent\"><img src=\"https://colab.research.google.com/assets/colab-badge.svg\" alt=\"Open In Colab\"/></a>"
      ]
    },
    {
      "cell_type": "code",
      "metadata": {
        "id": "rDBWGKqPYCTB",
        "colab": {
          "base_uri": "https://localhost:8080/"
        },
        "outputId": "36d8902e-45f7-44f2-d114-165ceccd765d"
      },
      "source": [
        "pip install yfinance"
      ],
      "execution_count": 4,
      "outputs": [
        {
          "output_type": "stream",
          "name": "stdout",
          "text": [
            "Collecting yfinance\n",
            "  Downloading yfinance-0.1.68-py2.py3-none-any.whl (26 kB)\n",
            "Requirement already satisfied: pandas>=0.24 in /usr/local/lib/python3.7/dist-packages (from yfinance) (1.1.5)\n",
            "Requirement already satisfied: numpy>=1.15 in /usr/local/lib/python3.7/dist-packages (from yfinance) (1.19.5)\n",
            "Requirement already satisfied: multitasking>=0.0.7 in /usr/local/lib/python3.7/dist-packages (from yfinance) (0.0.10)\n",
            "Collecting requests>=2.26\n",
            "  Downloading requests-2.27.1-py2.py3-none-any.whl (63 kB)\n",
            "\u001b[K     |████████████████████████████████| 63 kB 1.4 MB/s \n",
            "\u001b[?25hCollecting lxml>=4.5.1\n",
            "  Downloading lxml-4.7.1-cp37-cp37m-manylinux_2_17_x86_64.manylinux2014_x86_64.manylinux_2_24_x86_64.whl (6.4 MB)\n",
            "\u001b[K     |████████████████████████████████| 6.4 MB 10.9 MB/s \n",
            "\u001b[?25hRequirement already satisfied: pytz>=2017.2 in /usr/local/lib/python3.7/dist-packages (from pandas>=0.24->yfinance) (2018.9)\n",
            "Requirement already satisfied: python-dateutil>=2.7.3 in /usr/local/lib/python3.7/dist-packages (from pandas>=0.24->yfinance) (2.8.2)\n",
            "Requirement already satisfied: six>=1.5 in /usr/local/lib/python3.7/dist-packages (from python-dateutil>=2.7.3->pandas>=0.24->yfinance) (1.15.0)\n",
            "Requirement already satisfied: certifi>=2017.4.17 in /usr/local/lib/python3.7/dist-packages (from requests>=2.26->yfinance) (2021.10.8)\n",
            "Requirement already satisfied: idna<4,>=2.5 in /usr/local/lib/python3.7/dist-packages (from requests>=2.26->yfinance) (2.10)\n",
            "Requirement already satisfied: charset-normalizer~=2.0.0 in /usr/local/lib/python3.7/dist-packages (from requests>=2.26->yfinance) (2.0.9)\n",
            "Requirement already satisfied: urllib3<1.27,>=1.21.1 in /usr/local/lib/python3.7/dist-packages (from requests>=2.26->yfinance) (1.24.3)\n",
            "Installing collected packages: requests, lxml, yfinance\n",
            "  Attempting uninstall: requests\n",
            "    Found existing installation: requests 2.23.0\n",
            "    Uninstalling requests-2.23.0:\n",
            "      Successfully uninstalled requests-2.23.0\n",
            "  Attempting uninstall: lxml\n",
            "    Found existing installation: lxml 4.2.6\n",
            "    Uninstalling lxml-4.2.6:\n",
            "      Successfully uninstalled lxml-4.2.6\n",
            "\u001b[31mERROR: pip's dependency resolver does not currently take into account all the packages that are installed. This behaviour is the source of the following dependency conflicts.\n",
            "google-colab 1.0.0 requires requests~=2.23.0, but you have requests 2.27.1 which is incompatible.\n",
            "datascience 0.10.6 requires folium==0.2.1, but you have folium 0.8.3 which is incompatible.\u001b[0m\n",
            "Successfully installed lxml-4.7.1 requests-2.27.1 yfinance-0.1.68\n"
          ]
        }
      ]
    },
    {
      "cell_type": "code",
      "metadata": {
        "id": "Wyq1nH4fXkPm"
      },
      "source": [
        "import yfinance as yf\n",
        "import pandas as pd\n",
        "import matplotlib.pyplot as plt"
      ],
      "execution_count": 5,
      "outputs": []
    },
    {
      "cell_type": "code",
      "metadata": {
        "id": "8aQEXt3XXypp"
      },
      "source": [
        "symbols = {\n",
        "    \"XLF\": \"Financial\", \n",
        "    \"XLI\": \"Industrial\", \n",
        "    \"XLE\": \"Energy\", \n",
        "    \"XLB\": \"Materials\", \n",
        "    \"XLK\": \"Technology\", \n",
        "    \"XLY\": \"Consumer discretionary\", \n",
        "    \"XLV\": \"Healthcare\", \n",
        "    \"XLP\": \"Consumer staples\", \n",
        "    \"XLU\": \"Utilities\", \n",
        "    \"XLRE\": \"Real estate\", \n",
        "    \"XLC\": \"Communication services\", \n",
        "}\n",
        "benchmark = \"SPY\"\n",
        "timeframes = [\"1d\", \"7d\", \"1mo\", \"3mo\"]"
      ],
      "execution_count": 6,
      "outputs": []
    },
    {
      "cell_type": "code",
      "source": [
        "symbols = {\n",
        "    \"IYF\": \"Financial\", \n",
        "    \"VIS\": \"Industrial\", \n",
        "    \"VDE\": \"Energy\", \n",
        "    \"VAW\": \"Materials\", \n",
        "    \"IGV\": \"Technology\", \n",
        "    \"IYC\": \"Consumer discretionary\", \n",
        "    \"VHT\": \"Healthcare\", \n",
        "    \"VDC\": \"Consumer staples\", \n",
        "    \"VPU\": \"Utilities\", \n",
        "    \"VNQ\": \"Real estate\", \n",
        "    \"XTL\": \"Telecom\", \n",
        "}\n",
        "benchmark = \"SPY\"\n",
        "timeframes = [\"1d\", \"7d\", \"1mo\", \"3mo\"]"
      ],
      "metadata": {
        "id": "YalZz-1zc52c"
      },
      "execution_count": 7,
      "outputs": []
    },
    {
      "cell_type": "code",
      "source": [
        "def calculate_percentage_change(open, close):\n",
        "  return (close - open) / open * 100\n",
        "\n",
        "def get_symbol_percentage_change(data, symbol, timeframe):\n",
        "  ticker = data.tickers[symbol]\n",
        "  history = ticker.history(period=\"3mo\", interval=\"1d\")\n",
        "  history['Open'] = history['Close'].shift(1)\n",
        "  if (timeframe == \"1d\"):\n",
        "    open = history.tail(2).iloc[-1]['Open']\n",
        "    close = history.tail(2).iloc[-1]['Close']\n",
        "  elif (timeframe == \"7d\"):\n",
        "    open = history.tail(7).iloc[0]['Open']\n",
        "    close = history.iloc[-1]['Close']\n",
        "  elif (timeframe == \"1mo\"):\n",
        "    open = history.tail(30).iloc[0]['Open']\n",
        "    close = history.iloc[-1]['Close']\n",
        "  elif (timeframe == \"3mo\"):\n",
        "    open = history.iloc[1]['Open']\n",
        "    close = history.iloc[-1]['Close']\n",
        "  \n",
        "  return calculate_percentage_change(open, close)\n"
      ],
      "metadata": {
        "id": "_Qz49uBM4xM_"
      },
      "execution_count": 8,
      "outputs": []
    },
    {
      "cell_type": "code",
      "source": [
        "data = yf.Tickers(list(symbols.keys()))\n",
        "\n",
        "df = pd.DataFrame(columns=timeframes + [\"ticker\"])\n",
        "for symbol in data.tickers:\n",
        "  ticker_changes = {'ticker': symbols[symbol]}\n",
        "  for timeframe in timeframes:\n",
        "    ticker_changes[timeframe] = get_symbol_percentage_change(data, symbol, timeframe)\n",
        "  df = df.append(ticker_changes, ignore_index=True)"
      ],
      "metadata": {
        "id": "KCWQoan883Y6"
      },
      "execution_count": 9,
      "outputs": []
    },
    {
      "cell_type": "code",
      "source": [
        "def compare_with_benchmark(data, benchmark):\n",
        "  data['1d'] = data['1d']/data.loc[benchmark]['1d']\n",
        "  data['7d'] = data['7d']/data.loc[benchmark]['7d']\n",
        "  data['1mo'] = data['1mo']/data.loc[benchmark]['1mo']\n",
        "  data['3mo'] = data['3mo']/data.loc[benchmark]['3mo']"
      ],
      "metadata": {
        "id": "nHt7DBugxQfW"
      },
      "execution_count": 10,
      "outputs": []
    },
    {
      "cell_type": "code",
      "source": [
        "import plotly.express as px\n",
        "from plotly.subplots import make_subplots\n",
        "import plotly.graph_objects as go"
      ],
      "metadata": {
        "id": "flxGS05wshKx"
      },
      "execution_count": 11,
      "outputs": []
    },
    {
      "cell_type": "code",
      "source": [
        "fig = make_subplots(rows=2, cols=2, subplot_titles=['1d', '7d', '1m', '3m'])\n",
        "df1d = df[['ticker', '1d']].sort_values('1d')\n",
        "df7d = df[['ticker', '7d']].sort_values('7d')\n",
        "df1mo = df[['ticker', '1mo']].sort_values('1mo')\n",
        "df3mo = df[['ticker', '3mo']].sort_values('3mo')\n",
        "\n",
        "fig.append_trace(\n",
        "   go.Bar(name='1d', x=df1d['1d'], y=df1d['ticker'], orientation='h', marker=dict(color=df1d['1d'], colorscale=['#c62828', '#fffde7', '#558b2f'])), \n",
        "   row=1, col=1\n",
        ")\n",
        "fig.append_trace(\n",
        "   go.Bar(name='7d', x=df7d['7d'], y=df7d['ticker'], orientation='h', marker=dict(color=df7d['7d'], colorscale=['#c62828', '#fffde7', '#558b2f'])), \n",
        "   row=1, col=2\n",
        ")\n",
        "fig.append_trace(\n",
        "   go.Bar(name='1mo', x=df1mo['1mo'], y=df1mo['ticker'], orientation='h', marker=dict(color=df1mo['1mo'], colorscale=['#c62828', '#fffde7', '#558b2f'])), \n",
        "   row=2, col=1\n",
        ")\n",
        "fig.append_trace(\n",
        "   go.Bar(name='3mo', x=df3mo['3mo'], y=df3mo['ticker'], orientation='h', marker=dict(color=df3mo['3mo'], colorscale=['#c62828', '#fffde7', '#558b2f'])), \n",
        "   row=2, col=2\n",
        ")\n",
        "# Change the bar mode\n",
        "fig.update_layout(barmode='group', width=1800, height=1000)\n",
        "fig.update(layout_showlegend=False)\n",
        "fig.show()"
      ],
      "metadata": {
        "colab": {
          "base_uri": "https://localhost:8080/",
          "height": 1000
        },
        "id": "qrYH32KUf4BW",
        "outputId": "da601fbe-0baf-4051-a703-58a25f2bb0ae"
      },
      "execution_count": 12,
      "outputs": [
        {
          "output_type": "display_data",
          "data": {
            "text/html": [
              "<html>\n",
              "<head><meta charset=\"utf-8\" /></head>\n",
              "<body>\n",
              "    <div>\n",
              "            <script src=\"https://cdnjs.cloudflare.com/ajax/libs/mathjax/2.7.5/MathJax.js?config=TeX-AMS-MML_SVG\"></script><script type=\"text/javascript\">if (window.MathJax) {MathJax.Hub.Config({SVG: {font: \"STIX-Web\"}});}</script>\n",
              "                <script type=\"text/javascript\">window.PlotlyConfig = {MathJaxConfig: 'local'};</script>\n",
              "        <script src=\"https://cdn.plot.ly/plotly-latest.min.js\"></script>    \n",
              "            <div id=\"3a31453d-3ec0-4651-813f-ef3be35faaa2\" class=\"plotly-graph-div\" style=\"height:1000px; width:1800px;\"></div>\n",
              "            <script type=\"text/javascript\">\n",
              "                \n",
              "                    window.PLOTLYENV=window.PLOTLYENV || {};\n",
              "                    \n",
              "                if (document.getElementById(\"3a31453d-3ec0-4651-813f-ef3be35faaa2\")) {\n",
              "                    Plotly.newPlot(\n",
              "                        '3a31453d-3ec0-4651-813f-ef3be35faaa2',\n",
              "                        [{\"marker\": {\"color\": [-0.5839904058386952, -0.2948239653057082, -0.18699845360048234, 0.20940228030524574, 0.25337728213304916, 0.28655834160585536, 0.4787765012245441, 0.6660648768810166, 0.97140174425761, 1.4341501136510486, 2.1325604777204665], \"colorscale\": [[0.0, \"#c62828\"], [0.5, \"#fffde7\"], [1.0, \"#558b2f\"]]}, \"name\": \"1d\", \"orientation\": \"h\", \"type\": \"bar\", \"x\": [-0.5839904058386952, -0.2948239653057082, -0.18699845360048234, 0.20940228030524574, 0.25337728213304916, 0.28655834160585536, 0.4787765012245441, 0.6660648768810166, 0.97140174425761, 1.4341501136510486, 2.1325604777204665], \"xaxis\": \"x\", \"y\": [\"Materials\", \"Utilities\", \"Healthcare\", \"Consumer staples\", \"Consumer discretionary\", \"Real estate\", \"Industrial\", \"Telecom\", \"Technology\", \"Financial\", \"Energy\"], \"yaxis\": \"y\"}, {\"marker\": {\"color\": [-7.970867950963329, -3.317306079341801, -2.2058823529411766, -2.123754889060387, -1.1774565551905198, -0.30128051634303943, 0.025548258453885198, 0.5234372851395395, 1.4486222727185907, 2.9011665039115098, 7.293792687124115], \"colorscale\": [[0.0, \"#c62828\"], [0.5, \"#fffde7\"], [1.0, \"#558b2f\"]]}, \"name\": \"7d\", \"orientation\": \"h\", \"type\": \"bar\", \"x\": [-7.970867950963329, -3.317306079341801, -2.2058823529411766, -2.123754889060387, -1.1774565551905198, -0.30128051634303943, 0.025548258453885198, 0.5234372851395395, 1.4486222727185907, 2.9011665039115098, 7.293792687124115], \"xaxis\": \"x2\", \"y\": [\"Technology\", \"Healthcare\", \"Telecom\", \"Real estate\", \"Consumer discretionary\", \"Utilities\", \"Materials\", \"Industrial\", \"Consumer staples\", \"Financial\", \"Energy\"], \"yaxis\": \"y2\"}, {\"marker\": {\"color\": [-12.207655743768225, -2.838043213040369, -0.6121800246570543, 0.14716719803781153, 0.7126602686350456, 1.371477123586177, 1.4620840118240257, 2.9901535715044973, 4.268651355233191, 5.773975968717571, 6.034733487135881], \"colorscale\": [[0.0, \"#c62828\"], [0.5, \"#fffde7\"], [1.0, \"#558b2f\"]]}, \"name\": \"1mo\", \"orientation\": \"h\", \"type\": \"bar\", \"x\": [-12.207655743768225, -2.838043213040369, -0.6121800246570543, 0.14716719803781153, 0.7126602686350456, 1.371477123586177, 1.4620840118240257, 2.9901535715044973, 4.268651355233191, 5.773975968717571, 6.034733487135881], \"xaxis\": \"x3\", \"y\": [\"Technology\", \"Consumer discretionary\", \"Industrial\", \"Telecom\", \"Financial\", \"Healthcare\", \"Materials\", \"Real estate\", \"Utilities\", \"Energy\", \"Consumer staples\"], \"yaxis\": \"y3\"}, {\"marker\": {\"color\": [-8.211240756136917, 5.32983785426586, 5.886526178230113, 6.15723657273614, 6.245004770255268, 6.551868835239732, 8.29132054529499, 9.208762173477679, 10.887413743542309, 11.370623887262372, 11.660719108168223], \"colorscale\": [[0.0, \"#c62828\"], [0.5, \"#fffde7\"], [1.0, \"#558b2f\"]]}, \"name\": \"3mo\", \"orientation\": \"h\", \"type\": \"bar\", \"x\": [-8.211240756136917, 5.32983785426586, 5.886526178230113, 6.15723657273614, 6.245004770255268, 6.551868835239732, 8.29132054529499, 9.208762173477679, 10.887413743542309, 11.370623887262372, 11.660719108168223], \"xaxis\": \"x4\", \"y\": [\"Technology\", \"Healthcare\", \"Telecom\", \"Financial\", \"Industrial\", \"Consumer discretionary\", \"Utilities\", \"Real estate\", \"Energy\", \"Consumer staples\", \"Materials\"], \"yaxis\": \"y4\"}],\n",
              "                        {\"annotations\": [{\"font\": {\"size\": 16}, \"showarrow\": false, \"text\": \"1d\", \"x\": 0.225, \"xanchor\": \"center\", \"xref\": \"paper\", \"y\": 1.0, \"yanchor\": \"bottom\", \"yref\": \"paper\"}, {\"font\": {\"size\": 16}, \"showarrow\": false, \"text\": \"7d\", \"x\": 0.775, \"xanchor\": \"center\", \"xref\": \"paper\", \"y\": 1.0, \"yanchor\": \"bottom\", \"yref\": \"paper\"}, {\"font\": {\"size\": 16}, \"showarrow\": false, \"text\": \"1m\", \"x\": 0.225, \"xanchor\": \"center\", \"xref\": \"paper\", \"y\": 0.375, \"yanchor\": \"bottom\", \"yref\": \"paper\"}, {\"font\": {\"size\": 16}, \"showarrow\": false, \"text\": \"3m\", \"x\": 0.775, \"xanchor\": \"center\", \"xref\": \"paper\", \"y\": 0.375, \"yanchor\": \"bottom\", \"yref\": \"paper\"}], \"barmode\": \"group\", \"height\": 1000, \"showlegend\": false, \"template\": {\"data\": {\"bar\": [{\"error_x\": {\"color\": \"#2a3f5f\"}, \"error_y\": {\"color\": \"#2a3f5f\"}, \"marker\": {\"line\": {\"color\": \"#E5ECF6\", \"width\": 0.5}}, \"type\": \"bar\"}], \"barpolar\": [{\"marker\": {\"line\": {\"color\": \"#E5ECF6\", \"width\": 0.5}}, \"type\": \"barpolar\"}], \"carpet\": [{\"aaxis\": {\"endlinecolor\": \"#2a3f5f\", \"gridcolor\": \"white\", \"linecolor\": \"white\", \"minorgridcolor\": \"white\", \"startlinecolor\": \"#2a3f5f\"}, \"baxis\": {\"endlinecolor\": \"#2a3f5f\", \"gridcolor\": \"white\", \"linecolor\": \"white\", \"minorgridcolor\": \"white\", \"startlinecolor\": \"#2a3f5f\"}, \"type\": \"carpet\"}], \"choropleth\": [{\"colorbar\": {\"outlinewidth\": 0, \"ticks\": \"\"}, \"type\": \"choropleth\"}], \"contour\": [{\"colorbar\": {\"outlinewidth\": 0, \"ticks\": \"\"}, \"colorscale\": [[0.0, \"#0d0887\"], [0.1111111111111111, \"#46039f\"], [0.2222222222222222, \"#7201a8\"], [0.3333333333333333, \"#9c179e\"], [0.4444444444444444, \"#bd3786\"], [0.5555555555555556, \"#d8576b\"], [0.6666666666666666, \"#ed7953\"], [0.7777777777777778, \"#fb9f3a\"], [0.8888888888888888, \"#fdca26\"], [1.0, \"#f0f921\"]], \"type\": \"contour\"}], \"contourcarpet\": [{\"colorbar\": {\"outlinewidth\": 0, \"ticks\": \"\"}, \"type\": \"contourcarpet\"}], \"heatmap\": [{\"colorbar\": {\"outlinewidth\": 0, \"ticks\": \"\"}, \"colorscale\": [[0.0, \"#0d0887\"], [0.1111111111111111, \"#46039f\"], [0.2222222222222222, \"#7201a8\"], [0.3333333333333333, \"#9c179e\"], [0.4444444444444444, \"#bd3786\"], [0.5555555555555556, \"#d8576b\"], [0.6666666666666666, \"#ed7953\"], [0.7777777777777778, \"#fb9f3a\"], [0.8888888888888888, \"#fdca26\"], [1.0, \"#f0f921\"]], \"type\": \"heatmap\"}], \"heatmapgl\": [{\"colorbar\": {\"outlinewidth\": 0, \"ticks\": \"\"}, \"colorscale\": [[0.0, \"#0d0887\"], [0.1111111111111111, \"#46039f\"], [0.2222222222222222, \"#7201a8\"], [0.3333333333333333, \"#9c179e\"], [0.4444444444444444, \"#bd3786\"], [0.5555555555555556, \"#d8576b\"], [0.6666666666666666, \"#ed7953\"], [0.7777777777777778, \"#fb9f3a\"], [0.8888888888888888, \"#fdca26\"], [1.0, \"#f0f921\"]], \"type\": \"heatmapgl\"}], \"histogram\": [{\"marker\": {\"colorbar\": {\"outlinewidth\": 0, \"ticks\": \"\"}}, \"type\": \"histogram\"}], \"histogram2d\": [{\"colorbar\": {\"outlinewidth\": 0, \"ticks\": \"\"}, \"colorscale\": [[0.0, \"#0d0887\"], [0.1111111111111111, \"#46039f\"], [0.2222222222222222, \"#7201a8\"], [0.3333333333333333, \"#9c179e\"], [0.4444444444444444, \"#bd3786\"], [0.5555555555555556, \"#d8576b\"], [0.6666666666666666, \"#ed7953\"], [0.7777777777777778, \"#fb9f3a\"], [0.8888888888888888, \"#fdca26\"], [1.0, \"#f0f921\"]], \"type\": \"histogram2d\"}], \"histogram2dcontour\": [{\"colorbar\": {\"outlinewidth\": 0, \"ticks\": \"\"}, \"colorscale\": [[0.0, \"#0d0887\"], [0.1111111111111111, \"#46039f\"], [0.2222222222222222, \"#7201a8\"], [0.3333333333333333, \"#9c179e\"], [0.4444444444444444, \"#bd3786\"], [0.5555555555555556, \"#d8576b\"], [0.6666666666666666, \"#ed7953\"], [0.7777777777777778, \"#fb9f3a\"], [0.8888888888888888, \"#fdca26\"], [1.0, \"#f0f921\"]], \"type\": \"histogram2dcontour\"}], \"mesh3d\": [{\"colorbar\": {\"outlinewidth\": 0, \"ticks\": \"\"}, \"type\": \"mesh3d\"}], \"parcoords\": [{\"line\": {\"colorbar\": {\"outlinewidth\": 0, \"ticks\": \"\"}}, \"type\": \"parcoords\"}], \"pie\": [{\"automargin\": true, \"type\": \"pie\"}], \"scatter\": [{\"marker\": {\"colorbar\": {\"outlinewidth\": 0, \"ticks\": \"\"}}, \"type\": \"scatter\"}], \"scatter3d\": [{\"line\": {\"colorbar\": {\"outlinewidth\": 0, \"ticks\": \"\"}}, \"marker\": {\"colorbar\": {\"outlinewidth\": 0, \"ticks\": \"\"}}, \"type\": \"scatter3d\"}], \"scattercarpet\": [{\"marker\": {\"colorbar\": {\"outlinewidth\": 0, \"ticks\": \"\"}}, \"type\": \"scattercarpet\"}], \"scattergeo\": [{\"marker\": {\"colorbar\": {\"outlinewidth\": 0, \"ticks\": \"\"}}, \"type\": \"scattergeo\"}], \"scattergl\": [{\"marker\": {\"colorbar\": {\"outlinewidth\": 0, \"ticks\": \"\"}}, \"type\": \"scattergl\"}], \"scattermapbox\": [{\"marker\": {\"colorbar\": {\"outlinewidth\": 0, \"ticks\": \"\"}}, \"type\": \"scattermapbox\"}], \"scatterpolar\": [{\"marker\": {\"colorbar\": {\"outlinewidth\": 0, \"ticks\": \"\"}}, \"type\": \"scatterpolar\"}], \"scatterpolargl\": [{\"marker\": {\"colorbar\": {\"outlinewidth\": 0, \"ticks\": \"\"}}, \"type\": \"scatterpolargl\"}], \"scatterternary\": [{\"marker\": {\"colorbar\": {\"outlinewidth\": 0, \"ticks\": \"\"}}, \"type\": \"scatterternary\"}], \"surface\": [{\"colorbar\": {\"outlinewidth\": 0, \"ticks\": \"\"}, \"colorscale\": [[0.0, \"#0d0887\"], [0.1111111111111111, \"#46039f\"], [0.2222222222222222, \"#7201a8\"], [0.3333333333333333, \"#9c179e\"], [0.4444444444444444, \"#bd3786\"], [0.5555555555555556, \"#d8576b\"], [0.6666666666666666, \"#ed7953\"], [0.7777777777777778, \"#fb9f3a\"], [0.8888888888888888, \"#fdca26\"], [1.0, \"#f0f921\"]], \"type\": \"surface\"}], \"table\": [{\"cells\": {\"fill\": {\"color\": \"#EBF0F8\"}, \"line\": {\"color\": \"white\"}}, \"header\": {\"fill\": {\"color\": \"#C8D4E3\"}, \"line\": {\"color\": \"white\"}}, \"type\": \"table\"}]}, \"layout\": {\"annotationdefaults\": {\"arrowcolor\": \"#2a3f5f\", \"arrowhead\": 0, \"arrowwidth\": 1}, \"coloraxis\": {\"colorbar\": {\"outlinewidth\": 0, \"ticks\": \"\"}}, \"colorscale\": {\"diverging\": [[0, \"#8e0152\"], [0.1, \"#c51b7d\"], [0.2, \"#de77ae\"], [0.3, \"#f1b6da\"], [0.4, \"#fde0ef\"], [0.5, \"#f7f7f7\"], [0.6, \"#e6f5d0\"], [0.7, \"#b8e186\"], [0.8, \"#7fbc41\"], [0.9, \"#4d9221\"], [1, \"#276419\"]], \"sequential\": [[0.0, \"#0d0887\"], [0.1111111111111111, \"#46039f\"], [0.2222222222222222, \"#7201a8\"], [0.3333333333333333, \"#9c179e\"], [0.4444444444444444, \"#bd3786\"], [0.5555555555555556, \"#d8576b\"], [0.6666666666666666, \"#ed7953\"], [0.7777777777777778, \"#fb9f3a\"], [0.8888888888888888, \"#fdca26\"], [1.0, \"#f0f921\"]], \"sequentialminus\": [[0.0, \"#0d0887\"], [0.1111111111111111, \"#46039f\"], [0.2222222222222222, \"#7201a8\"], [0.3333333333333333, \"#9c179e\"], [0.4444444444444444, \"#bd3786\"], [0.5555555555555556, \"#d8576b\"], [0.6666666666666666, \"#ed7953\"], [0.7777777777777778, \"#fb9f3a\"], [0.8888888888888888, \"#fdca26\"], [1.0, \"#f0f921\"]]}, \"colorway\": [\"#636efa\", \"#EF553B\", \"#00cc96\", \"#ab63fa\", \"#FFA15A\", \"#19d3f3\", \"#FF6692\", \"#B6E880\", \"#FF97FF\", \"#FECB52\"], \"font\": {\"color\": \"#2a3f5f\"}, \"geo\": {\"bgcolor\": \"white\", \"lakecolor\": \"white\", \"landcolor\": \"#E5ECF6\", \"showlakes\": true, \"showland\": true, \"subunitcolor\": \"white\"}, \"hoverlabel\": {\"align\": \"left\"}, \"hovermode\": \"closest\", \"mapbox\": {\"style\": \"light\"}, \"paper_bgcolor\": \"white\", \"plot_bgcolor\": \"#E5ECF6\", \"polar\": {\"angularaxis\": {\"gridcolor\": \"white\", \"linecolor\": \"white\", \"ticks\": \"\"}, \"bgcolor\": \"#E5ECF6\", \"radialaxis\": {\"gridcolor\": \"white\", \"linecolor\": \"white\", \"ticks\": \"\"}}, \"scene\": {\"xaxis\": {\"backgroundcolor\": \"#E5ECF6\", \"gridcolor\": \"white\", \"gridwidth\": 2, \"linecolor\": \"white\", \"showbackground\": true, \"ticks\": \"\", \"zerolinecolor\": \"white\"}, \"yaxis\": {\"backgroundcolor\": \"#E5ECF6\", \"gridcolor\": \"white\", \"gridwidth\": 2, \"linecolor\": \"white\", \"showbackground\": true, \"ticks\": \"\", \"zerolinecolor\": \"white\"}, \"zaxis\": {\"backgroundcolor\": \"#E5ECF6\", \"gridcolor\": \"white\", \"gridwidth\": 2, \"linecolor\": \"white\", \"showbackground\": true, \"ticks\": \"\", \"zerolinecolor\": \"white\"}}, \"shapedefaults\": {\"line\": {\"color\": \"#2a3f5f\"}}, \"ternary\": {\"aaxis\": {\"gridcolor\": \"white\", \"linecolor\": \"white\", \"ticks\": \"\"}, \"baxis\": {\"gridcolor\": \"white\", \"linecolor\": \"white\", \"ticks\": \"\"}, \"bgcolor\": \"#E5ECF6\", \"caxis\": {\"gridcolor\": \"white\", \"linecolor\": \"white\", \"ticks\": \"\"}}, \"title\": {\"x\": 0.05}, \"xaxis\": {\"automargin\": true, \"gridcolor\": \"white\", \"linecolor\": \"white\", \"ticks\": \"\", \"title\": {\"standoff\": 15}, \"zerolinecolor\": \"white\", \"zerolinewidth\": 2}, \"yaxis\": {\"automargin\": true, \"gridcolor\": \"white\", \"linecolor\": \"white\", \"ticks\": \"\", \"title\": {\"standoff\": 15}, \"zerolinecolor\": \"white\", \"zerolinewidth\": 2}}}, \"width\": 1800, \"xaxis\": {\"anchor\": \"y\", \"domain\": [0.0, 0.45]}, \"xaxis2\": {\"anchor\": \"y2\", \"domain\": [0.55, 1.0]}, \"xaxis3\": {\"anchor\": \"y3\", \"domain\": [0.0, 0.45]}, \"xaxis4\": {\"anchor\": \"y4\", \"domain\": [0.55, 1.0]}, \"yaxis\": {\"anchor\": \"x\", \"domain\": [0.625, 1.0]}, \"yaxis2\": {\"anchor\": \"x2\", \"domain\": [0.625, 1.0]}, \"yaxis3\": {\"anchor\": \"x3\", \"domain\": [0.0, 0.375]}, \"yaxis4\": {\"anchor\": \"x4\", \"domain\": [0.0, 0.375]}},\n",
              "                        {\"responsive\": true}\n",
              "                    ).then(function(){\n",
              "                            \n",
              "var gd = document.getElementById('3a31453d-3ec0-4651-813f-ef3be35faaa2');\n",
              "var x = new MutationObserver(function (mutations, observer) {{\n",
              "        var display = window.getComputedStyle(gd).display;\n",
              "        if (!display || display === 'none') {{\n",
              "            console.log([gd, 'removed!']);\n",
              "            Plotly.purge(gd);\n",
              "            observer.disconnect();\n",
              "        }}\n",
              "}});\n",
              "\n",
              "// Listen for the removal of the full notebook cells\n",
              "var notebookContainer = gd.closest('#notebook-container');\n",
              "if (notebookContainer) {{\n",
              "    x.observe(notebookContainer, {childList: true});\n",
              "}}\n",
              "\n",
              "// Listen for the clearing of the current output cell\n",
              "var outputEl = gd.closest('.output');\n",
              "if (outputEl) {{\n",
              "    x.observe(outputEl, {childList: true});\n",
              "}}\n",
              "\n",
              "                        })\n",
              "                };\n",
              "                \n",
              "            </script>\n",
              "        </div>\n",
              "</body>\n",
              "</html>"
            ]
          },
          "metadata": {}
        }
      ]
    }
  ]
}